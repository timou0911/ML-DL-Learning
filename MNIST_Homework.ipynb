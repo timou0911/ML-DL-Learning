{
  "nbformat": 4,
  "nbformat_minor": 0,
  "metadata": {
    "colab": {
      "provenance": [],
      "gpuType": "T4",
      "authorship_tag": "ABX9TyObVur21SXTy+IEtyiF6LKJ",
      "include_colab_link": true
    },
    "kernelspec": {
      "name": "python3",
      "display_name": "Python 3"
    },
    "language_info": {
      "name": "python"
    },
    "accelerator": "GPU"
  },
  "cells": [
    {
      "cell_type": "markdown",
      "metadata": {
        "id": "view-in-github",
        "colab_type": "text"
      },
      "source": [
        "<a href=\"https://colab.research.google.com/github/timou0911/ML-DL-Learning/blob/main/MNIST_Homework.ipynb\" target=\"_parent\"><img src=\"https://colab.research.google.com/assets/colab-badge.svg\" alt=\"Open In Colab\"/></a>"
      ]
    },
    {
      "cell_type": "markdown",
      "source": [
        "\n",
        "[Tutorial Following](https://www.youtube.com/watch?v=vBlO87ZAiiw)"
      ],
      "metadata": {
        "id": "xJbmWqiqXhk7"
      }
    },
    {
      "cell_type": "code",
      "execution_count": 32,
      "metadata": {
        "id": "LXYXVioyIeCf"
      },
      "outputs": [],
      "source": [
        "import torch\n",
        "from torch.utils.data import DataLoader\n",
        "from torchvision import transforms, datasets\n",
        "import torch.nn as nn\n",
        "import torch.nn.functional as F\n",
        "import torch.optim as optim\n",
        "import matplotlib.pyplot as plt"
      ]
    },
    {
      "cell_type": "code",
      "source": [
        "DEVICE = torch.device(\"cuda\" if torch.cuda.is_available() else \"cpu\")\n",
        "Batch_size = 100\n",
        "LR = 0.001\n",
        "EPOCHES = 10\n",
        "print(DEVICE)"
      ],
      "metadata": {
        "colab": {
          "base_uri": "https://localhost:8080/"
        },
        "id": "UeqaEBReL7LW",
        "outputId": "6c01ef6f-07fe-4b44-ac81-529f257d3ed3"
      },
      "execution_count": 54,
      "outputs": [
        {
          "output_type": "stream",
          "name": "stdout",
          "text": [
            "cpu\n"
          ]
        }
      ]
    },
    {
      "cell_type": "code",
      "source": [
        "trannsform = transforms.Compose([\n",
        "    transforms.ToTensor(),\n",
        "    #transforms.Normalize((0.5,), (0.5,))\n",
        "])"
      ],
      "metadata": {
        "id": "InC7wV_2g-P_"
      },
      "execution_count": 55,
      "outputs": []
    },
    {
      "cell_type": "code",
      "source": [
        "train_set = datasets.MNIST(root='./data', train=True, download=True, transform=trannsform)\n",
        "test_set = datasets.MNIST(root='./data', train=False, download=True, transform=trannsform)\n",
        "\n",
        "train_loader = DataLoader(train_set, batch_size=Batch_size, shuffle=True)\n",
        "test_loader = DataLoader(test_set, batch_size=Batch_size, shuffle=True)\n",
        "\n",
        "print(train_set)\n",
        "print(test_set)"
      ],
      "metadata": {
        "colab": {
          "base_uri": "https://localhost:8080/"
        },
        "collapsed": true,
        "id": "m9B89IgEhDNx",
        "outputId": "0cd1c71b-5c9c-469b-ecae-9b9caba9f74a"
      },
      "execution_count": 56,
      "outputs": [
        {
          "output_type": "stream",
          "name": "stdout",
          "text": [
            "Dataset MNIST\n",
            "    Number of datapoints: 60000\n",
            "    Root location: ./data\n",
            "    Split: Train\n",
            "    StandardTransform\n",
            "Transform: Compose(\n",
            "               ToTensor()\n",
            "           )\n",
            "Dataset MNIST\n",
            "    Number of datapoints: 10000\n",
            "    Root location: ./data\n",
            "    Split: Test\n",
            "    StandardTransform\n",
            "Transform: Compose(\n",
            "               ToTensor()\n",
            "           )\n"
          ]
        }
      ]
    },
    {
      "cell_type": "code",
      "source": [
        "print(train_set.train_data.size())\n",
        "plt.subplot(1, 2, 1)\n",
        "plt.imshow(train_set.train_data[1].numpy(), cmap='gray')\n",
        "plt.title(f'{train_set.train_labels[1]}')\n",
        "plt.subplot(1, 2, 2)\n",
        "plt.imshow(train_set.train_data[5].numpy(), cmap='gray')\n",
        "plt.title(f'{train_set.train_labels[5]}')\n",
        "plt.show()"
      ],
      "metadata": {
        "colab": {
          "base_uri": "https://localhost:8080/",
          "height": 398
        },
        "id": "-AkhoimYq4qQ",
        "outputId": "6e41df2e-2aa9-404d-8b05-9440fdf7500c"
      },
      "execution_count": 57,
      "outputs": [
        {
          "output_type": "stream",
          "name": "stderr",
          "text": [
            "/usr/local/lib/python3.10/dist-packages/torchvision/datasets/mnist.py:76: UserWarning: train_data has been renamed data\n",
            "  warnings.warn(\"train_data has been renamed data\")\n",
            "/usr/local/lib/python3.10/dist-packages/torchvision/datasets/mnist.py:66: UserWarning: train_labels has been renamed targets\n",
            "  warnings.warn(\"train_labels has been renamed targets\")\n"
          ]
        },
        {
          "output_type": "stream",
          "name": "stdout",
          "text": [
            "torch.Size([60000, 28, 28])\n"
          ]
        },
        {
          "output_type": "display_data",
          "data": {
            "text/plain": [
              "<Figure size 640x480 with 2 Axes>"
            ],
            "image/png": "[encoded data removed]"
          },
          "metadata": {}
        }
      ]
    },
    {
      "cell_type": "code",
      "source": [
        "class CNN(nn.Module):\n",
        "  def __init__(self):\n",
        "    super(CNN, self).__init__()\n",
        "    self.conv1 = nn.Conv2d(1, 10, kernel_size=5)\n",
        "    self.conv2 = nn.Conv2d(10, 20, kernel_size=5)\n",
        "    self.fc1 = nn.Linear(320, 50)\n",
        "    self.fc2 = nn.Linear(50, 10)\n",
        "\n",
        "  def forward(self, x):\n",
        "    x = F.relu(F.max_pool2d(self.conv1(x), 2))\n",
        "    x = F.relu(F.max_pool2d(self.conv2(x), 2))\n",
        "    x = x.view(-1, 320)\n",
        "    x = F.relu(self.fc1(x))\n",
        "    x = F.dropout(x, training=self.training)\n",
        "    x = self.fc2(x)\n",
        "    out = F.softmax(x)\n",
        "\n",
        "    return out"
      ],
      "metadata": {
        "id": "FIt7NKqQhmEk"
      },
      "execution_count": 66,
      "outputs": []
    },
    {
      "cell_type": "code",
      "source": [
        "model = CNN().to(DEVICE)\n",
        "print(model)\n",
        "optimizer = optim.Adam(model.parameters(), lr=LR)"
      ],
      "metadata": {
        "colab": {
          "base_uri": "https://localhost:8080/"
        },
        "id": "FC_NdDXtiiRa",
        "outputId": "27da7f96-1c16-427f-e556-bbead73ea626"
      },
      "execution_count": 67,
      "outputs": [
        {
          "output_type": "stream",
          "name": "stdout",
          "text": [
            "CNN(\n",
            "  (conv1): Conv2d(1, 10, kernel_size=(5, 5), stride=(1, 1))\n",
            "  (conv2): Conv2d(10, 20, kernel_size=(5, 5), stride=(1, 1))\n",
            "  (fc1): Linear(in_features=320, out_features=50, bias=True)\n",
            "  (fc2): Linear(in_features=50, out_features=10, bias=True)\n",
            ")\n"
          ]
        }
      ]
    },
    {
      "cell_type": "code",
      "source": [
        "def train(epoch):\n",
        "  model.train()\n",
        "\n",
        "  for batch_idx, (data, target) in enumerate(train_loader):\n",
        "    data, target = data.to(DEVICE), target.to(DEVICE)\n",
        "    optimizer.zero_grad()\n",
        "    output = model(data)\n",
        "\n",
        "    criterion = nn.CrossEntropyLoss()\n",
        "    loss = criterion(output, target)\n",
        "\n",
        "    loss.backward()\n",
        "    optimizer.step()\n",
        "\n",
        "    if (batch_idx) % 20 == 0:\n",
        "      print(f'Train Epoch: {epoch} [{batch_idx * len(data)}/{len(train_loader.dataset)}] Loss: {loss.item():.6f}')\n",
        "\n",
        "def test():\n",
        "  model.eval()\n",
        "  test_loss = 0\n",
        "  correct = 0\n",
        "\n",
        "  with torch.no_grad():\n",
        "    for data, target in test_loader:\n",
        "      data, target = data.to(DEVICE), target.to(DEVICE)\n",
        "      output = model(data)\n",
        "\n",
        "      criterion = nn.CrossEntropyLoss()\n",
        "      test_loss += criterion(output, target).item()\n",
        "      pred = output.argmax(dim=1, keepdim=True)\n",
        "      correct += pred.eq(target.view_as(pred)).sum().item()\n",
        "\n",
        "  test_loss /= len(test_loader.dataset)\n",
        "  print(f'\\nTest set: Average loss: {test_loss:.4f}, Correct: {correct}, Total: {len(test_loader.dataset)}, Accuracy: {100. * correct / len(test_loader.dataset):.3f}%\\n')\n",
        "\n",
        "def show_model_params(model):\n",
        "    for name,parameters in model.named_parameters():\n",
        "        print(name,':',parameters.size())\n",
        "show_model_params(model)"
      ],
      "metadata": {
        "colab": {
          "base_uri": "https://localhost:8080/"
        },
        "id": "6bXllXJAi_BH",
        "outputId": "67d0e93d-58dc-440b-eb6b-fa8c8d7e5f50"
      },
      "execution_count": 68,
      "outputs": [
        {
          "output_type": "stream",
          "name": "stdout",
          "text": [
            "conv1.weight : torch.Size([10, 1, 5, 5])\n",
            "conv1.bias : torch.Size([10])\n",
            "conv2.weight : torch.Size([20, 10, 5, 5])\n",
            "conv2.bias : torch.Size([20])\n",
            "fc1.weight : torch.Size([50, 320])\n",
            "fc1.bias : torch.Size([50])\n",
            "fc2.weight : torch.Size([10, 50])\n",
            "fc2.bias : torch.Size([10])\n"
          ]
        }
      ]
    },
    {
      "cell_type": "code",
      "source": [
        "for epoch in range(1, EPOCHES+1):\n",
        "    train(epoch)\n",
        "    test()"
      ],
      "metadata": {
        "colab": {
          "base_uri": "https://localhost:8080/"
        },
        "id": "GBzy_DEY22w6",
        "outputId": "c96b777a-7498-4f6d-e561-4ca52e35161f"
      },
      "execution_count": 69,
      "outputs": [
        {
          "output_type": "stream",
          "name": "stderr",
          "text": [
            "<ipython-input-66-4cf3c264966a>:18: UserWarning: Implicit dimension choice for softmax has been deprecated. Change the call to include dim=X as an argument.\n",
            "  out = F.softmax(x)\n"
          ]
        },
        {
          "output_type": "stream",
          "name": "stdout",
          "text": [
            "Train Epoch: 1 [0/60000] Loss: 2.303228\n",
            "Train Epoch: 1 [2000/60000] Loss: 2.286807\n",
            "Train Epoch: 1 [4000/60000] Loss: 2.169188\n",
            "Train Epoch: 1 [6000/60000] Loss: 2.008614\n",
            "Train Epoch: 1 [8000/60000] Loss: 1.924168\n",
            "Train Epoch: 1 [10000/60000] Loss: 1.799289\n",
            "Train Epoch: 1 [12000/60000] Loss: 1.847059\n",
            "Train Epoch: 1 [14000/60000] Loss: 1.863413\n",
            "Train Epoch: 1 [16000/60000] Loss: 1.736198\n",
            "Train Epoch: 1 [18000/60000] Loss: 1.773885\n",
            "Train Epoch: 1 [20000/60000] Loss: 1.786215\n",
            "Train Epoch: 1 [22000/60000] Loss: 1.682561\n",
            "Train Epoch: 1 [24000/60000] Loss: 1.793355\n",
            "Train Epoch: 1 [26000/60000] Loss: 1.662872\n",
            "Train Epoch: 1 [28000/60000] Loss: 1.674138\n",
            "Train Epoch: 1 [30000/60000] Loss: 1.643745\n",
            "Train Epoch: 1 [32000/60000] Loss: 1.629686\n",
            "Train Epoch: 1 [34000/60000] Loss: 1.630488\n",
            "Train Epoch: 1 [36000/60000] Loss: 1.721272\n",
            "Train Epoch: 1 [38000/60000] Loss: 1.660743\n",
            "Train Epoch: 1 [40000/60000] Loss: 1.688154\n",
            "Train Epoch: 1 [42000/60000] Loss: 1.621280\n",
            "Train Epoch: 1 [44000/60000] Loss: 1.642783\n",
            "Train Epoch: 1 [46000/60000] Loss: 1.643461\n",
            "Train Epoch: 1 [48000/60000] Loss: 1.645027\n",
            "Train Epoch: 1 [50000/60000] Loss: 1.664882\n",
            "Train Epoch: 1 [52000/60000] Loss: 1.639341\n",
            "Train Epoch: 1 [54000/60000] Loss: 1.644122\n",
            "Train Epoch: 1 [56000/60000] Loss: 1.590138\n",
            "Train Epoch: 1 [58000/60000] Loss: 1.642473\n",
            "\n",
            "Test set: Average loss: 0.0153, Correct: 9342, Total: 10000, Accuracy: 93.420%\n",
            "\n",
            "Train Epoch: 2 [0/60000] Loss: 1.615620\n",
            "Train Epoch: 2 [2000/60000] Loss: 1.617867\n",
            "Train Epoch: 2 [4000/60000] Loss: 1.594047\n",
            "Train Epoch: 2 [6000/60000] Loss: 1.565771\n",
            "Train Epoch: 2 [8000/60000] Loss: 1.597661\n",
            "Train Epoch: 2 [10000/60000] Loss: 1.579241\n",
            "Train Epoch: 2 [12000/60000] Loss: 1.599436\n",
            "Train Epoch: 2 [14000/60000] Loss: 1.577176\n",
            "Train Epoch: 2 [16000/60000] Loss: 1.586640\n",
            "Train Epoch: 2 [18000/60000] Loss: 1.610085\n",
            "Train Epoch: 2 [20000/60000] Loss: 1.595507\n",
            "Train Epoch: 2 [22000/60000] Loss: 1.555137\n",
            "Train Epoch: 2 [24000/60000] Loss: 1.633150\n",
            "Train Epoch: 2 [26000/60000] Loss: 1.562465\n",
            "Train Epoch: 2 [28000/60000] Loss: 1.634942\n",
            "Train Epoch: 2 [30000/60000] Loss: 1.575973\n",
            "Train Epoch: 2 [32000/60000] Loss: 1.610881\n",
            "Train Epoch: 2 [34000/60000] Loss: 1.559027\n",
            "Train Epoch: 2 [36000/60000] Loss: 1.586555\n",
            "Train Epoch: 2 [38000/60000] Loss: 1.542184\n",
            "Train Epoch: 2 [40000/60000] Loss: 1.588438\n",
            "Train Epoch: 2 [42000/60000] Loss: 1.596104\n",
            "Train Epoch: 2 [44000/60000] Loss: 1.606765\n",
            "Train Epoch: 2 [46000/60000] Loss: 1.558147\n",
            "Train Epoch: 2 [48000/60000] Loss: 1.577762\n",
            "Train Epoch: 2 [50000/60000] Loss: 1.610927\n",
            "Train Epoch: 2 [52000/60000] Loss: 1.581718\n",
            "Train Epoch: 2 [54000/60000] Loss: 1.564508\n",
            "Train Epoch: 2 [56000/60000] Loss: 1.582212\n",
            "Train Epoch: 2 [58000/60000] Loss: 1.534989\n",
            "\n",
            "Test set: Average loss: 0.0150, Correct: 9580, Total: 10000, Accuracy: 95.800%\n",
            "\n",
            "Train Epoch: 3 [0/60000] Loss: 1.599520\n",
            "Train Epoch: 3 [2000/60000] Loss: 1.563789\n",
            "Train Epoch: 3 [4000/60000] Loss: 1.567013\n",
            "Train Epoch: 3 [6000/60000] Loss: 1.522631\n",
            "Train Epoch: 3 [8000/60000] Loss: 1.578520\n",
            "Train Epoch: 3 [10000/60000] Loss: 1.562285\n",
            "Train Epoch: 3 [12000/60000] Loss: 1.561091\n",
            "Train Epoch: 3 [14000/60000] Loss: 1.566007\n",
            "Train Epoch: 3 [16000/60000] Loss: 1.574068\n",
            "Train Epoch: 3 [18000/60000] Loss: 1.559369\n",
            "Train Epoch: 3 [20000/60000] Loss: 1.542867\n",
            "Train Epoch: 3 [22000/60000] Loss: 1.559339\n",
            "Train Epoch: 3 [24000/60000] Loss: 1.555102\n",
            "Train Epoch: 3 [26000/60000] Loss: 1.526126\n",
            "Train Epoch: 3 [28000/60000] Loss: 1.560812\n",
            "Train Epoch: 3 [30000/60000] Loss: 1.541459\n",
            "Train Epoch: 3 [32000/60000] Loss: 1.525619\n",
            "Train Epoch: 3 [34000/60000] Loss: 1.540395\n",
            "Train Epoch: 3 [36000/60000] Loss: 1.536563\n",
            "Train Epoch: 3 [38000/60000] Loss: 1.580009\n",
            "Train Epoch: 3 [40000/60000] Loss: 1.553701\n",
            "Train Epoch: 3 [42000/60000] Loss: 1.559619\n",
            "Train Epoch: 3 [44000/60000] Loss: 1.608143\n",
            "Train Epoch: 3 [46000/60000] Loss: 1.532260\n",
            "Train Epoch: 3 [48000/60000] Loss: 1.527718\n",
            "Train Epoch: 3 [50000/60000] Loss: 1.641321\n",
            "Train Epoch: 3 [52000/60000] Loss: 1.500929\n",
            "Train Epoch: 3 [54000/60000] Loss: 1.512577\n",
            "Train Epoch: 3 [56000/60000] Loss: 1.569772\n",
            "Train Epoch: 3 [58000/60000] Loss: 1.521146\n",
            "\n",
            "Test set: Average loss: 0.0150, Correct: 9635, Total: 10000, Accuracy: 96.350%\n",
            "\n",
            "Train Epoch: 4 [0/60000] Loss: 1.537072\n",
            "Train Epoch: 4 [2000/60000] Loss: 1.539607\n",
            "Train Epoch: 4 [4000/60000] Loss: 1.538256\n",
            "Train Epoch: 4 [6000/60000] Loss: 1.511646\n",
            "Train Epoch: 4 [8000/60000] Loss: 1.519799\n",
            "Train Epoch: 4 [10000/60000] Loss: 1.554905\n",
            "Train Epoch: 4 [12000/60000] Loss: 1.519795\n",
            "Train Epoch: 4 [14000/60000] Loss: 1.543862\n",
            "Train Epoch: 4 [16000/60000] Loss: 1.520859\n",
            "Train Epoch: 4 [18000/60000] Loss: 1.537379\n",
            "Train Epoch: 4 [20000/60000] Loss: 1.540413\n",
            "Train Epoch: 4 [22000/60000] Loss: 1.539584\n",
            "Train Epoch: 4 [24000/60000] Loss: 1.556289\n",
            "Train Epoch: 4 [26000/60000] Loss: 1.510718\n",
            "Train Epoch: 4 [28000/60000] Loss: 1.582225\n",
            "Train Epoch: 4 [30000/60000] Loss: 1.543690\n",
            "Train Epoch: 4 [32000/60000] Loss: 1.536009\n",
            "Train Epoch: 4 [34000/60000] Loss: 1.547487\n",
            "Train Epoch: 4 [36000/60000] Loss: 1.536186\n",
            "Train Epoch: 4 [38000/60000] Loss: 1.553325\n",
            "Train Epoch: 4 [40000/60000] Loss: 1.521083\n",
            "Train Epoch: 4 [42000/60000] Loss: 1.535675\n",
            "Train Epoch: 4 [44000/60000] Loss: 1.602851\n",
            "Train Epoch: 4 [46000/60000] Loss: 1.567017\n",
            "Train Epoch: 4 [48000/60000] Loss: 1.570295\n",
            "Train Epoch: 4 [50000/60000] Loss: 1.536515\n",
            "Train Epoch: 4 [52000/60000] Loss: 1.542466\n",
            "Train Epoch: 4 [54000/60000] Loss: 1.623043\n",
            "Train Epoch: 4 [56000/60000] Loss: 1.562723\n",
            "Train Epoch: 4 [58000/60000] Loss: 1.523258\n",
            "\n",
            "Test set: Average loss: 0.0149, Correct: 9676, Total: 10000, Accuracy: 96.760%\n",
            "\n",
            "Train Epoch: 5 [0/60000] Loss: 1.566920\n",
            "Train Epoch: 5 [2000/60000] Loss: 1.577524\n",
            "Train Epoch: 5 [4000/60000] Loss: 1.518617\n",
            "Train Epoch: 5 [6000/60000] Loss: 1.532143\n",
            "Train Epoch: 5 [8000/60000] Loss: 1.539086\n",
            "Train Epoch: 5 [10000/60000] Loss: 1.533039\n",
            "Train Epoch: 5 [12000/60000] Loss: 1.531026\n",
            "Train Epoch: 5 [14000/60000] Loss: 1.539250\n",
            "Train Epoch: 5 [16000/60000] Loss: 1.522290\n",
            "Train Epoch: 5 [18000/60000] Loss: 1.534357\n",
            "Train Epoch: 5 [20000/60000] Loss: 1.560544\n",
            "Train Epoch: 5 [22000/60000] Loss: 1.552395\n",
            "Train Epoch: 5 [24000/60000] Loss: 1.533726\n",
            "Train Epoch: 5 [26000/60000] Loss: 1.500362\n",
            "Train Epoch: 5 [28000/60000] Loss: 1.577376\n",
            "Train Epoch: 5 [30000/60000] Loss: 1.553087\n",
            "Train Epoch: 5 [32000/60000] Loss: 1.539851\n",
            "Train Epoch: 5 [34000/60000] Loss: 1.515027\n",
            "Train Epoch: 5 [36000/60000] Loss: 1.555981\n",
            "Train Epoch: 5 [38000/60000] Loss: 1.574491\n",
            "Train Epoch: 5 [40000/60000] Loss: 1.545419\n",
            "Train Epoch: 5 [42000/60000] Loss: 1.556308\n",
            "Train Epoch: 5 [44000/60000] Loss: 1.500689\n",
            "Train Epoch: 5 [46000/60000] Loss: 1.543265\n",
            "Train Epoch: 5 [48000/60000] Loss: 1.520700\n",
            "Train Epoch: 5 [50000/60000] Loss: 1.594470\n",
            "Train Epoch: 5 [52000/60000] Loss: 1.541511\n",
            "Train Epoch: 5 [54000/60000] Loss: 1.539822\n",
            "Train Epoch: 5 [56000/60000] Loss: 1.518536\n",
            "Train Epoch: 5 [58000/60000] Loss: 1.548911\n",
            "\n",
            "Test set: Average loss: 0.0149, Correct: 9723, Total: 10000, Accuracy: 97.230%\n",
            "\n",
            "Train Epoch: 6 [0/60000] Loss: 1.537398\n",
            "Train Epoch: 6 [2000/60000] Loss: 1.550074\n",
            "Train Epoch: 6 [4000/60000] Loss: 1.560470\n",
            "Train Epoch: 6 [6000/60000] Loss: 1.528814\n",
            "Train Epoch: 6 [8000/60000] Loss: 1.538058\n",
            "Train Epoch: 6 [10000/60000] Loss: 1.502517\n",
            "Train Epoch: 6 [12000/60000] Loss: 1.526063\n",
            "Train Epoch: 6 [14000/60000] Loss: 1.554072\n",
            "Train Epoch: 6 [16000/60000] Loss: 1.571074\n",
            "Train Epoch: 6 [18000/60000] Loss: 1.518981\n",
            "Train Epoch: 6 [20000/60000] Loss: 1.542020\n",
            "Train Epoch: 6 [22000/60000] Loss: 1.521616\n",
            "Train Epoch: 6 [24000/60000] Loss: 1.551006\n",
            "Train Epoch: 6 [26000/60000] Loss: 1.538641\n",
            "Train Epoch: 6 [28000/60000] Loss: 1.512745\n",
            "Train Epoch: 6 [30000/60000] Loss: 1.556324\n",
            "Train Epoch: 6 [32000/60000] Loss: 1.534601\n",
            "Train Epoch: 6 [34000/60000] Loss: 1.560955\n",
            "Train Epoch: 6 [36000/60000] Loss: 1.507370\n",
            "Train Epoch: 6 [38000/60000] Loss: 1.562776\n",
            "Train Epoch: 6 [40000/60000] Loss: 1.497692\n",
            "Train Epoch: 6 [42000/60000] Loss: 1.513191\n",
            "Train Epoch: 6 [44000/60000] Loss: 1.530674\n",
            "Train Epoch: 6 [46000/60000] Loss: 1.502647\n",
            "Train Epoch: 6 [48000/60000] Loss: 1.509123\n",
            "Train Epoch: 6 [50000/60000] Loss: 1.491183\n",
            "Train Epoch: 6 [52000/60000] Loss: 1.492605\n",
            "Train Epoch: 6 [54000/60000] Loss: 1.493083\n",
            "Train Epoch: 6 [56000/60000] Loss: 1.561350\n",
            "Train Epoch: 6 [58000/60000] Loss: 1.529793\n",
            "\n",
            "Test set: Average loss: 0.0149, Correct: 9749, Total: 10000, Accuracy: 97.490%\n",
            "\n",
            "Train Epoch: 7 [0/60000] Loss: 1.534789\n",
            "Train Epoch: 7 [2000/60000] Loss: 1.506693\n",
            "Train Epoch: 7 [4000/60000] Loss: 1.500570\n",
            "Train Epoch: 7 [6000/60000] Loss: 1.533796\n",
            "Train Epoch: 7 [8000/60000] Loss: 1.522111\n",
            "Train Epoch: 7 [10000/60000] Loss: 1.516897\n",
            "Train Epoch: 7 [12000/60000] Loss: 1.523640\n",
            "Train Epoch: 7 [14000/60000] Loss: 1.511052\n",
            "Train Epoch: 7 [16000/60000] Loss: 1.519149\n",
            "Train Epoch: 7 [18000/60000] Loss: 1.520186\n",
            "Train Epoch: 7 [20000/60000] Loss: 1.493996\n",
            "Train Epoch: 7 [22000/60000] Loss: 1.512781\n",
            "Train Epoch: 7 [24000/60000] Loss: 1.542192\n",
            "Train Epoch: 7 [26000/60000] Loss: 1.519965\n",
            "Train Epoch: 7 [28000/60000] Loss: 1.535277\n",
            "Train Epoch: 7 [30000/60000] Loss: 1.525813\n",
            "Train Epoch: 7 [32000/60000] Loss: 1.541148\n",
            "Train Epoch: 7 [34000/60000] Loss: 1.536662\n",
            "Train Epoch: 7 [36000/60000] Loss: 1.514956\n",
            "Train Epoch: 7 [38000/60000] Loss: 1.508230\n",
            "Train Epoch: 7 [40000/60000] Loss: 1.504446\n",
            "Train Epoch: 7 [42000/60000] Loss: 1.528659\n",
            "Train Epoch: 7 [44000/60000] Loss: 1.528525\n",
            "Train Epoch: 7 [46000/60000] Loss: 1.506262\n",
            "Train Epoch: 7 [48000/60000] Loss: 1.498853\n",
            "Train Epoch: 7 [50000/60000] Loss: 1.531846\n",
            "Train Epoch: 7 [52000/60000] Loss: 1.493867\n",
            "Train Epoch: 7 [54000/60000] Loss: 1.532132\n",
            "Train Epoch: 7 [56000/60000] Loss: 1.513737\n",
            "Train Epoch: 7 [58000/60000] Loss: 1.504779\n",
            "\n",
            "Test set: Average loss: 0.0149, Correct: 9749, Total: 10000, Accuracy: 97.490%\n",
            "\n",
            "Train Epoch: 8 [0/60000] Loss: 1.523561\n",
            "Train Epoch: 8 [2000/60000] Loss: 1.505358\n",
            "Train Epoch: 8 [4000/60000] Loss: 1.522293\n",
            "Train Epoch: 8 [6000/60000] Loss: 1.518992\n",
            "Train Epoch: 8 [8000/60000] Loss: 1.482578\n",
            "Train Epoch: 8 [10000/60000] Loss: 1.519968\n",
            "Train Epoch: 8 [12000/60000] Loss: 1.495221\n",
            "Train Epoch: 8 [14000/60000] Loss: 1.528975\n",
            "Train Epoch: 8 [16000/60000] Loss: 1.546896\n",
            "Train Epoch: 8 [18000/60000] Loss: 1.498727\n",
            "Train Epoch: 8 [20000/60000] Loss: 1.505383\n",
            "Train Epoch: 8 [22000/60000] Loss: 1.537647\n",
            "Train Epoch: 8 [24000/60000] Loss: 1.513528\n",
            "Train Epoch: 8 [26000/60000] Loss: 1.495431\n",
            "Train Epoch: 8 [28000/60000] Loss: 1.511487\n",
            "Train Epoch: 8 [30000/60000] Loss: 1.503796\n",
            "Train Epoch: 8 [32000/60000] Loss: 1.513385\n",
            "Train Epoch: 8 [34000/60000] Loss: 1.562044\n",
            "Train Epoch: 8 [36000/60000] Loss: 1.534165\n",
            "Train Epoch: 8 [38000/60000] Loss: 1.523253\n",
            "Train Epoch: 8 [40000/60000] Loss: 1.576175\n",
            "Train Epoch: 8 [42000/60000] Loss: 1.538087\n",
            "Train Epoch: 8 [44000/60000] Loss: 1.548757\n",
            "Train Epoch: 8 [46000/60000] Loss: 1.504422\n",
            "Train Epoch: 8 [48000/60000] Loss: 1.525676\n",
            "Train Epoch: 8 [50000/60000] Loss: 1.518308\n",
            "Train Epoch: 8 [52000/60000] Loss: 1.507630\n",
            "Train Epoch: 8 [54000/60000] Loss: 1.519380\n",
            "Train Epoch: 8 [56000/60000] Loss: 1.532231\n",
            "Train Epoch: 8 [58000/60000] Loss: 1.507221\n",
            "\n",
            "Test set: Average loss: 0.0148, Correct: 9768, Total: 10000, Accuracy: 97.680%\n",
            "\n",
            "Train Epoch: 9 [0/60000] Loss: 1.510193\n",
            "Train Epoch: 9 [2000/60000] Loss: 1.528107\n",
            "Train Epoch: 9 [4000/60000] Loss: 1.483015\n",
            "Train Epoch: 9 [6000/60000] Loss: 1.504701\n",
            "Train Epoch: 9 [8000/60000] Loss: 1.501085\n",
            "Train Epoch: 9 [10000/60000] Loss: 1.500133\n",
            "Train Epoch: 9 [12000/60000] Loss: 1.509821\n",
            "Train Epoch: 9 [14000/60000] Loss: 1.521684\n",
            "Train Epoch: 9 [16000/60000] Loss: 1.500212\n",
            "Train Epoch: 9 [18000/60000] Loss: 1.492659\n",
            "Train Epoch: 9 [20000/60000] Loss: 1.487490\n",
            "Train Epoch: 9 [22000/60000] Loss: 1.550693\n",
            "Train Epoch: 9 [24000/60000] Loss: 1.466584\n",
            "Train Epoch: 9 [26000/60000] Loss: 1.506606\n",
            "Train Epoch: 9 [28000/60000] Loss: 1.493499\n",
            "Train Epoch: 9 [30000/60000] Loss: 1.534374\n",
            "Train Epoch: 9 [32000/60000] Loss: 1.502942\n",
            "Train Epoch: 9 [34000/60000] Loss: 1.563449\n",
            "Train Epoch: 9 [36000/60000] Loss: 1.521791\n",
            "Train Epoch: 9 [38000/60000] Loss: 1.535248\n",
            "Train Epoch: 9 [40000/60000] Loss: 1.580617\n",
            "Train Epoch: 9 [42000/60000] Loss: 1.498765\n",
            "Train Epoch: 9 [44000/60000] Loss: 1.517547\n",
            "Train Epoch: 9 [46000/60000] Loss: 1.498179\n",
            "Train Epoch: 9 [48000/60000] Loss: 1.547973\n",
            "Train Epoch: 9 [50000/60000] Loss: 1.514888\n",
            "Train Epoch: 9 [52000/60000] Loss: 1.505497\n",
            "Train Epoch: 9 [54000/60000] Loss: 1.536556\n",
            "Train Epoch: 9 [56000/60000] Loss: 1.540356\n",
            "Train Epoch: 9 [58000/60000] Loss: 1.505893\n",
            "\n",
            "Test set: Average loss: 0.0148, Correct: 9793, Total: 10000, Accuracy: 97.930%\n",
            "\n",
            "Train Epoch: 10 [0/60000] Loss: 1.502469\n",
            "Train Epoch: 10 [2000/60000] Loss: 1.515671\n",
            "Train Epoch: 10 [4000/60000] Loss: 1.509733\n",
            "Train Epoch: 10 [6000/60000] Loss: 1.509210\n",
            "Train Epoch: 10 [8000/60000] Loss: 1.523326\n",
            "Train Epoch: 10 [10000/60000] Loss: 1.523470\n",
            "Train Epoch: 10 [12000/60000] Loss: 1.505091\n",
            "Train Epoch: 10 [14000/60000] Loss: 1.503356\n",
            "Train Epoch: 10 [16000/60000] Loss: 1.495112\n",
            "Train Epoch: 10 [18000/60000] Loss: 1.512360\n",
            "Train Epoch: 10 [20000/60000] Loss: 1.499127\n",
            "Train Epoch: 10 [22000/60000] Loss: 1.529468\n",
            "Train Epoch: 10 [24000/60000] Loss: 1.493744\n",
            "Train Epoch: 10 [26000/60000] Loss: 1.478019\n",
            "Train Epoch: 10 [28000/60000] Loss: 1.525445\n",
            "Train Epoch: 10 [30000/60000] Loss: 1.512263\n",
            "Train Epoch: 10 [32000/60000] Loss: 1.483925\n",
            "Train Epoch: 10 [34000/60000] Loss: 1.529596\n",
            "Train Epoch: 10 [36000/60000] Loss: 1.513309\n",
            "Train Epoch: 10 [38000/60000] Loss: 1.488117\n",
            "Train Epoch: 10 [40000/60000] Loss: 1.520718\n",
            "Train Epoch: 10 [42000/60000] Loss: 1.512504\n",
            "Train Epoch: 10 [44000/60000] Loss: 1.508597\n",
            "Train Epoch: 10 [46000/60000] Loss: 1.525891\n",
            "Train Epoch: 10 [48000/60000] Loss: 1.513537\n",
            "Train Epoch: 10 [50000/60000] Loss: 1.484339\n",
            "Train Epoch: 10 [52000/60000] Loss: 1.526631\n",
            "Train Epoch: 10 [54000/60000] Loss: 1.480623\n",
            "Train Epoch: 10 [56000/60000] Loss: 1.495809\n",
            "Train Epoch: 10 [58000/60000] Loss: 1.522416\n",
            "\n",
            "Test set: Average loss: 0.0148, Correct: 9813, Total: 10000, Accuracy: 98.130%\n",
            "\n"
          ]
        }
      ]
    },
    {
      "cell_type": "code",
      "source": [
        "model.eval()\n",
        "data, target = test_set[0]\n",
        "data = data.unsqueeze(0).to(DEVICE)\n",
        "output = model(data)\n",
        "prediction = output.argmax(dim=1, keepdim=True).item()\n",
        "print(f'Prediction: {prediction}')\n",
        "image = data.squeeze(0).squeeze(0).cpu().numpy()\n",
        "plt.imshow(image, cmap='gray')\n",
        "plt.show()"
      ],
      "metadata": {
        "colab": {
          "base_uri": "https://localhost:8080/",
          "height": 504
        },
        "id": "gUw9JAoz3A3I",
        "outputId": "72e1dd05-53d7-4a6e-8cd6-451b91667432"
      },
      "execution_count": 70,
      "outputs": [
        {
          "output_type": "stream",
          "name": "stderr",
          "text": [
            "<ipython-input-66-4cf3c264966a>:18: UserWarning: Implicit dimension choice for softmax has been deprecated. Change the call to include dim=X as an argument.\n",
            "  out = F.softmax(x)\n"
          ]
        },
        {
          "output_type": "stream",
          "name": "stdout",
          "text": [
            "Prediction: 7\n"
          ]
        },
        {
          "output_type": "display_data",
          "data": {
            "text/plain": [
              "<Figure size 640x480 with 1 Axes>"
            ],
            "image/png": "[encoded data removed]"
          },
          "metadata": {}
        }
      ]
    }
  ]
}