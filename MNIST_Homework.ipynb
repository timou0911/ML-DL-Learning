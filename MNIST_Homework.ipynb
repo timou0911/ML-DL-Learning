{
  "nbformat": 4,
  "nbformat_minor": 0,
  "metadata": {
    "colab": {
      "provenance": [],
      "gpuType": "T4",
      "authorship_tag": "ABX9TyMlnV5M0CCZb2j1q0/OhFXB",
      "include_colab_link": true
    },
    "kernelspec": {
      "name": "python3",
      "display_name": "Python 3"
    },
    "language_info": {
      "name": "python"
    },
    "accelerator": "GPU"
  },
  "cells": [
    {
      "cell_type": "markdown",
      "metadata": {
        "id": "view-in-github",
        "colab_type": "text"
      },
      "source": [
        "<a href=\"https://colab.research.google.com/github/timou0911/ML-DL-Learning/blob/main/MNIST_Homework.ipynb\" target=\"_parent\"><img src=\"https://colab.research.google.com/assets/colab-badge.svg\" alt=\"Open In Colab\"/></a>"
      ]
    },
    {
      "cell_type": "markdown",
      "source": [
        "\n",
        "[Tutorial Following](https://www.youtube.com/watch?v=vBlO87ZAiiw)"
      ],
      "metadata": {
        "id": "xJbmWqiqXhk7"
      }
    },
    {
      "cell_type": "code",
      "execution_count": 32,
      "metadata": {
        "id": "LXYXVioyIeCf"
      },
      "outputs": [],
      "source": [
        "import torch\n",
        "from torch.utils.data import DataLoader\n",
        "from torchvision import transforms, datasets\n",
        "import torch.nn as nn\n",
        "import torch.nn.functional as F\n",
        "import torch.optim as optim\n",
        "import matplotlib.pyplot as plt"
      ]
    },
    {
      "cell_type": "code",
      "source": [
        "DEVICE = torch.device(\"cuda\" if torch.cuda.is_available() else \"cpu\")\n",
        "Batch_size = 100\n",
        "LR = 0.001\n",
        "EPOCHES = 10\n",
        "print(DEVICE)"
      ],
      "metadata": {
        "colab": {
          "base_uri": "https://localhost:8080/"
        },
        "id": "UeqaEBReL7LW",
        "outputId": "21fc6e28-e157-4c88-850e-2870584dfa66"
      },
      "execution_count": 33,
      "outputs": [
        {
          "output_type": "stream",
          "name": "stdout",
          "text": [
            "cpu\n"
          ]
        }
      ]
    },
    {
      "cell_type": "code",
      "source": [
        "trannsform = transforms.Compose([\n",
        "    transforms.ToTensor(),\n",
        "    #transforms.Normalize((0.5,), (0.5,))\n",
        "])"
      ],
      "metadata": {
        "id": "InC7wV_2g-P_"
      },
      "execution_count": 34,
      "outputs": []
    },
    {
      "cell_type": "code",
      "source": [
        "train_set = datasets.MNIST(root='./data', train=True, download=True, transform=trannsform)\n",
        "test_set = datasets.MNIST(root='./data', train=False, download=True, transform=trannsform)\n",
        "\n",
        "train_loader = DataLoader(train_set, batch_size=Batch_size, shuffle=True)\n",
        "test_loader = DataLoader(test_set, batch_size=Batch_size, shuffle=True)\n",
        "\n",
        "print(train_set)\n",
        "print(test_set)"
      ],
      "metadata": {
        "colab": {
          "base_uri": "https://localhost:8080/"
        },
        "collapsed": true,
        "id": "m9B89IgEhDNx",
        "outputId": "a761f493-5947-42ee-be21-962a812d6fe7"
      },
      "execution_count": 35,
      "outputs": [
        {
          "output_type": "stream",
          "name": "stdout",
          "text": [
            "Dataset MNIST\n",
            "    Number of datapoints: 60000\n",
            "    Root location: ./data\n",
            "    Split: Train\n",
            "    StandardTransform\n",
            "Transform: Compose(\n",
            "               ToTensor()\n",
            "           )\n",
            "Dataset MNIST\n",
            "    Number of datapoints: 10000\n",
            "    Root location: ./data\n",
            "    Split: Test\n",
            "    StandardTransform\n",
            "Transform: Compose(\n",
            "               ToTensor()\n",
            "           )\n"
          ]
        }
      ]
    },
    {
      "cell_type": "code",
      "source": [
        "print(train_set.train_data.size())\n",
        "plt.subplot(1, 2, 1)\n",
        "plt.imshow(train_set.train_data[1].numpy(), cmap='gray')\n",
        "plt.title(f'{train_set.train_labels[1]}')\n",
        "plt.subplot(1, 2, 2)\n",
        "plt.imshow(train_set.train_data[5].numpy(), cmap='gray')\n",
        "plt.title(f'{train_set.train_labels[5]}')\n",
        "plt.show()"
      ],
      "metadata": {
        "colab": {
          "base_uri": "https://localhost:8080/",
          "height": 326
        },
        "id": "-AkhoimYq4qQ",
        "outputId": "8486d7d0-f662-439e-cc36-ccf0083fd312"
      },
      "execution_count": 37,
      "outputs": [
        {
          "output_type": "stream",
          "name": "stdout",
          "text": [
            "torch.Size([60000, 28, 28])\n"
          ]
        },
        {
          "output_type": "display_data",
          "data": {
            "text/plain": [
              "<Figure size 640x480 with 2 Axes>"
            ],
            "image/png": "[encoded data removed]"
          },
          "metadata": {}
        }
      ]
    },
    {
      "cell_type": "code",
      "source": [
        "class CNN(nn.Module):\n",
        "  def __init__(self):\n",
        "    super(CNN, self).__init__()\n",
        "    self.conv1 = nn.Conv2d(1, 10, kernel_size=5)\n",
        "    self.conv2 = nn.Conv2d(10, 20, kernel_size=5)\n",
        "    self.conv2_drop = nn.Dropout2d()\n",
        "    self.fc1 = nn.Linear(320, 50)\n",
        "    self.fc2 = nn.Linear(50, 10)\n",
        "\n",
        "  def forward(self, x):\n",
        "    x = F.relu(F.max_pool2d(self.conv1(x), 2))\n",
        "    x = F.relu(F.max_pool2d(self.conv2_drop(self.conv2(x)), 2))\n",
        "    x = x.view(-1, 320)\n",
        "    x = F.relu(self.fc1(x))\n",
        "    x = F.dropout(x, training=self.training)\n",
        "    x = self.fc2(x)\n",
        "    out = F.softmax(x)\n",
        "\n",
        "    return out"
      ],
      "metadata": {
        "id": "FIt7NKqQhmEk"
      },
      "execution_count": 43,
      "outputs": []
    },
    {
      "cell_type": "code",
      "source": [
        "model = CNN().to(DEVICE)\n",
        "print(model)\n",
        "optimizer = optim.Adam(model.parameters(), lr=LR)"
      ],
      "metadata": {
        "colab": {
          "base_uri": "https://localhost:8080/"
        },
        "id": "FC_NdDXtiiRa",
        "outputId": "06a40def-2028-4416-de48-58417cd5dd34"
      },
      "execution_count": 44,
      "outputs": [
        {
          "output_type": "stream",
          "name": "stdout",
          "text": [
            "CNN(\n",
            "  (conv1): Conv2d(1, 10, kernel_size=(5, 5), stride=(1, 1))\n",
            "  (conv2): Conv2d(10, 20, kernel_size=(5, 5), stride=(1, 1))\n",
            "  (conv2_drop): Dropout2d(p=0.5, inplace=False)\n",
            "  (fc1): Linear(in_features=320, out_features=50, bias=True)\n",
            "  (fc2): Linear(in_features=50, out_features=10, bias=True)\n",
            ")\n"
          ]
        }
      ]
    },
    {
      "cell_type": "code",
      "source": [
        "def train(epoch):\n",
        "  model.train()\n",
        "\n",
        "  for batch_idx, (data, target) in enumerate(train_loader):\n",
        "    data, target = data.to(DEVICE), target.to(DEVICE)\n",
        "    optimizer.zero_grad()\n",
        "    output = model(data)\n",
        "\n",
        "    criterion = nn.CrossEntropyLoss()\n",
        "    loss = criterion(output, target)\n",
        "\n",
        "    loss.backward()\n",
        "    optimizer.step()\n",
        "\n",
        "    if (batch_idx) % 20 == 0:\n",
        "      print(f'Train Epoch: {epoch} [{batch_idx * len(data)}/{len(train_loader.dataset)}] Loss: {loss.item():.6f}')\n",
        "\n",
        "def test():\n",
        "  model.eval()\n",
        "  test_loss = 0\n",
        "  correct = 0\n",
        "\n",
        "  with torch.no_grad():\n",
        "    for data, target in test_loader:\n",
        "      data, target = data.to(DEVICE), target.to(DEVICE)\n",
        "      output = model(data)\n",
        "\n",
        "      criterion = nn.CrossEntropyLoss()\n",
        "      test_loss += criterion(output, target).item()\n",
        "      pred = output.argmax(dim=1, keepdim=True)\n",
        "      correct += pred.eq(target.view_as(pred)).sum().item()\n",
        "\n",
        "  test_loss /= len(test_loader.dataset)\n",
        "  print(f'\\nTest set: Average loss: {test_loss:.4f}, Correct: {correct}, Total: {len(test_loader.dataset)}, Accuracy: {100. * correct / len(test_loader.dataset):.3f}%\\n')\n",
        "\n",
        "def show_model_params(model):\n",
        "    for name,parameters in model.named_parameters():\n",
        "        print(name,':',parameters.size())\n",
        "show_model_params(model)"
      ],
      "metadata": {
        "colab": {
          "base_uri": "https://localhost:8080/"
        },
        "id": "6bXllXJAi_BH",
        "outputId": "d0de410b-0a96-4744-9806-a9a88c89924c"
      },
      "execution_count": 45,
      "outputs": [
        {
          "output_type": "stream",
          "name": "stdout",
          "text": [
            "conv1.weight : torch.Size([10, 1, 5, 5])\n",
            "conv1.bias : torch.Size([10])\n",
            "conv2.weight : torch.Size([20, 10, 5, 5])\n",
            "conv2.bias : torch.Size([20])\n",
            "fc1.weight : torch.Size([50, 320])\n",
            "fc1.bias : torch.Size([50])\n",
            "fc2.weight : torch.Size([10, 50])\n",
            "fc2.bias : torch.Size([10])\n"
          ]
        }
      ]
    },
    {
      "cell_type": "code",
      "source": [
        "for epoch in range(1, EPOCHES + 1):\n",
        "    train(epoch)\n",
        "    test()"
      ],
      "metadata": {
        "colab": {
          "base_uri": "https://localhost:8080/"
        },
        "id": "GBzy_DEY22w6",
        "outputId": "ece46b68-f278-43a0-c4a1-02c3e285b713"
      },
      "execution_count": 46,
      "outputs": [
        {
          "output_type": "stream",
          "name": "stderr",
          "text": [
            "<ipython-input-43-fa40d085c570>:17: UserWarning: Implicit dimension choice for softmax has been deprecated. Change the call to include dim=X as an argument.\n",
            "  out = F.softmax(x)\n"
          ]
        },
        {
          "output_type": "stream",
          "name": "stdout",
          "text": [
            "Train Epoch: 1 [0/60000] Loss: 2.304126\n",
            "Train Epoch: 1 [2000/60000] Loss: 2.284246\n",
            "Train Epoch: 1 [4000/60000] Loss: 2.168601\n",
            "Train Epoch: 1 [6000/60000] Loss: 1.982564\n",
            "Train Epoch: 1 [8000/60000] Loss: 1.846574\n",
            "Train Epoch: 1 [10000/60000] Loss: 1.804929\n",
            "Train Epoch: 1 [12000/60000] Loss: 1.757857\n",
            "Train Epoch: 1 [14000/60000] Loss: 1.766236\n",
            "Train Epoch: 1 [16000/60000] Loss: 1.703820\n",
            "Train Epoch: 1 [18000/60000] Loss: 1.767643\n",
            "Train Epoch: 1 [20000/60000] Loss: 1.717583\n",
            "Train Epoch: 1 [22000/60000] Loss: 1.670065\n",
            "Train Epoch: 1 [24000/60000] Loss: 1.646300\n",
            "Train Epoch: 1 [26000/60000] Loss: 1.701126\n",
            "Train Epoch: 1 [28000/60000] Loss: 1.705330\n",
            "Train Epoch: 1 [30000/60000] Loss: 1.700099\n",
            "Train Epoch: 1 [32000/60000] Loss: 1.651412\n",
            "Train Epoch: 1 [34000/60000] Loss: 1.634157\n",
            "Train Epoch: 1 [36000/60000] Loss: 1.656395\n",
            "Train Epoch: 1 [38000/60000] Loss: 1.637492\n",
            "Train Epoch: 1 [40000/60000] Loss: 1.629580\n",
            "Train Epoch: 1 [42000/60000] Loss: 1.638853\n",
            "Train Epoch: 1 [44000/60000] Loss: 1.648044\n",
            "Train Epoch: 1 [46000/60000] Loss: 1.574154\n",
            "Train Epoch: 1 [48000/60000] Loss: 1.635330\n",
            "Train Epoch: 1 [50000/60000] Loss: 1.594537\n",
            "Train Epoch: 1 [52000/60000] Loss: 1.633161\n",
            "Train Epoch: 1 [54000/60000] Loss: 1.678652\n",
            "Train Epoch: 1 [56000/60000] Loss: 1.669267\n",
            "Train Epoch: 1 [58000/60000] Loss: 1.573425\n",
            "\n",
            "Test set: Average loss: 0.0153, Correct: 9293, Total: 10000, Accuracy: 92.930%\n",
            "\n",
            "Train Epoch: 2 [0/60000] Loss: 1.542664\n",
            "Train Epoch: 2 [2000/60000] Loss: 1.586225\n",
            "Train Epoch: 2 [4000/60000] Loss: 1.615333\n",
            "Train Epoch: 2 [6000/60000] Loss: 1.600319\n",
            "Train Epoch: 2 [8000/60000] Loss: 1.589067\n",
            "Train Epoch: 2 [10000/60000] Loss: 1.608961\n",
            "Train Epoch: 2 [12000/60000] Loss: 1.646556\n",
            "Train Epoch: 2 [14000/60000] Loss: 1.578683\n",
            "Train Epoch: 2 [16000/60000] Loss: 1.607755\n",
            "Train Epoch: 2 [18000/60000] Loss: 1.595282\n",
            "Train Epoch: 2 [20000/60000] Loss: 1.562345\n",
            "Train Epoch: 2 [22000/60000] Loss: 1.582167\n",
            "Train Epoch: 2 [24000/60000] Loss: 1.603091\n",
            "Train Epoch: 2 [26000/60000] Loss: 1.584772\n",
            "Train Epoch: 2 [28000/60000] Loss: 1.569735\n",
            "Train Epoch: 2 [30000/60000] Loss: 1.583066\n",
            "Train Epoch: 2 [32000/60000] Loss: 1.563975\n",
            "Train Epoch: 2 [34000/60000] Loss: 1.632160\n",
            "Train Epoch: 2 [36000/60000] Loss: 1.604985\n",
            "Train Epoch: 2 [38000/60000] Loss: 1.587203\n",
            "Train Epoch: 2 [40000/60000] Loss: 1.666351\n",
            "Train Epoch: 2 [42000/60000] Loss: 1.509606\n",
            "Train Epoch: 2 [44000/60000] Loss: 1.591246\n",
            "Train Epoch: 2 [46000/60000] Loss: 1.617685\n",
            "Train Epoch: 2 [48000/60000] Loss: 1.617251\n",
            "Train Epoch: 2 [50000/60000] Loss: 1.565348\n",
            "Train Epoch: 2 [52000/60000] Loss: 1.571328\n",
            "Train Epoch: 2 [54000/60000] Loss: 1.535336\n",
            "Train Epoch: 2 [56000/60000] Loss: 1.607288\n",
            "Train Epoch: 2 [58000/60000] Loss: 1.609617\n",
            "\n",
            "Test set: Average loss: 0.0151, Correct: 9464, Total: 10000, Accuracy: 94.640%\n",
            "\n",
            "Train Epoch: 3 [0/60000] Loss: 1.578367\n",
            "Train Epoch: 3 [2000/60000] Loss: 1.526684\n",
            "Train Epoch: 3 [4000/60000] Loss: 1.549036\n",
            "Train Epoch: 3 [6000/60000] Loss: 1.543896\n",
            "Train Epoch: 3 [8000/60000] Loss: 1.569982\n",
            "Train Epoch: 3 [10000/60000] Loss: 1.613871\n",
            "Train Epoch: 3 [12000/60000] Loss: 1.588566\n",
            "Train Epoch: 3 [14000/60000] Loss: 1.580270\n",
            "Train Epoch: 3 [16000/60000] Loss: 1.604656\n",
            "Train Epoch: 3 [18000/60000] Loss: 1.539971\n",
            "Train Epoch: 3 [20000/60000] Loss: 1.533834\n",
            "Train Epoch: 3 [22000/60000] Loss: 1.587898\n",
            "Train Epoch: 3 [24000/60000] Loss: 1.565117\n",
            "Train Epoch: 3 [26000/60000] Loss: 1.570781\n",
            "Train Epoch: 3 [28000/60000] Loss: 1.591656\n",
            "Train Epoch: 3 [30000/60000] Loss: 1.551818\n",
            "Train Epoch: 3 [32000/60000] Loss: 1.552874\n",
            "Train Epoch: 3 [34000/60000] Loss: 1.575088\n",
            "Train Epoch: 3 [36000/60000] Loss: 1.542351\n",
            "Train Epoch: 3 [38000/60000] Loss: 1.564889\n",
            "Train Epoch: 3 [40000/60000] Loss: 1.516903\n",
            "Train Epoch: 3 [42000/60000] Loss: 1.634169\n",
            "Train Epoch: 3 [44000/60000] Loss: 1.617327\n",
            "Train Epoch: 3 [46000/60000] Loss: 1.606978\n",
            "Train Epoch: 3 [48000/60000] Loss: 1.523136\n",
            "Train Epoch: 3 [50000/60000] Loss: 1.549532\n",
            "Train Epoch: 3 [52000/60000] Loss: 1.561629\n",
            "Train Epoch: 3 [54000/60000] Loss: 1.568706\n",
            "Train Epoch: 3 [56000/60000] Loss: 1.528239\n",
            "Train Epoch: 3 [58000/60000] Loss: 1.567966\n",
            "\n",
            "Test set: Average loss: 0.0150, Correct: 9576, Total: 10000, Accuracy: 95.760%\n",
            "\n",
            "Train Epoch: 4 [0/60000] Loss: 1.558898\n",
            "Train Epoch: 4 [2000/60000] Loss: 1.534406\n",
            "Train Epoch: 4 [4000/60000] Loss: 1.544948\n",
            "Train Epoch: 4 [6000/60000] Loss: 1.549357\n",
            "Train Epoch: 4 [8000/60000] Loss: 1.530986\n",
            "Train Epoch: 4 [10000/60000] Loss: 1.572218\n",
            "Train Epoch: 4 [12000/60000] Loss: 1.581026\n",
            "Train Epoch: 4 [14000/60000] Loss: 1.531461\n",
            "Train Epoch: 4 [16000/60000] Loss: 1.533256\n",
            "Train Epoch: 4 [18000/60000] Loss: 1.587503\n",
            "Train Epoch: 4 [20000/60000] Loss: 1.562148\n",
            "Train Epoch: 4 [22000/60000] Loss: 1.540807\n",
            "Train Epoch: 4 [24000/60000] Loss: 1.518339\n",
            "Train Epoch: 4 [26000/60000] Loss: 1.572321\n",
            "Train Epoch: 4 [28000/60000] Loss: 1.581512\n",
            "Train Epoch: 4 [30000/60000] Loss: 1.536096\n",
            "Train Epoch: 4 [32000/60000] Loss: 1.563894\n",
            "Train Epoch: 4 [34000/60000] Loss: 1.562934\n",
            "Train Epoch: 4 [36000/60000] Loss: 1.544193\n",
            "Train Epoch: 4 [38000/60000] Loss: 1.559996\n",
            "Train Epoch: 4 [40000/60000] Loss: 1.503744\n",
            "Train Epoch: 4 [42000/60000] Loss: 1.521157\n",
            "Train Epoch: 4 [44000/60000] Loss: 1.529206\n",
            "Train Epoch: 4 [46000/60000] Loss: 1.538943\n",
            "Train Epoch: 4 [48000/60000] Loss: 1.580923\n",
            "Train Epoch: 4 [50000/60000] Loss: 1.563815\n",
            "Train Epoch: 4 [52000/60000] Loss: 1.549079\n",
            "Train Epoch: 4 [54000/60000] Loss: 1.551420\n",
            "Train Epoch: 4 [56000/60000] Loss: 1.566583\n",
            "Train Epoch: 4 [58000/60000] Loss: 1.514749\n",
            "\n",
            "Test set: Average loss: 0.0150, Correct: 9616, Total: 10000, Accuracy: 96.160%\n",
            "\n",
            "Train Epoch: 5 [0/60000] Loss: 1.524825\n",
            "Train Epoch: 5 [2000/60000] Loss: 1.508439\n",
            "Train Epoch: 5 [4000/60000] Loss: 1.560727\n",
            "Train Epoch: 5 [6000/60000] Loss: 1.528488\n",
            "Train Epoch: 5 [8000/60000] Loss: 1.506191\n",
            "Train Epoch: 5 [10000/60000] Loss: 1.576467\n",
            "Train Epoch: 5 [12000/60000] Loss: 1.536360\n",
            "Train Epoch: 5 [14000/60000] Loss: 1.512991\n",
            "Train Epoch: 5 [16000/60000] Loss: 1.580477\n",
            "Train Epoch: 5 [18000/60000] Loss: 1.555881\n",
            "Train Epoch: 5 [20000/60000] Loss: 1.548024\n",
            "Train Epoch: 5 [22000/60000] Loss: 1.549692\n",
            "Train Epoch: 5 [24000/60000] Loss: 1.518757\n",
            "Train Epoch: 5 [26000/60000] Loss: 1.578502\n",
            "Train Epoch: 5 [28000/60000] Loss: 1.537531\n",
            "Train Epoch: 5 [30000/60000] Loss: 1.529629\n",
            "Train Epoch: 5 [32000/60000] Loss: 1.528475\n",
            "Train Epoch: 5 [34000/60000] Loss: 1.536273\n",
            "Train Epoch: 5 [36000/60000] Loss: 1.544128\n",
            "Train Epoch: 5 [38000/60000] Loss: 1.570225\n",
            "Train Epoch: 5 [40000/60000] Loss: 1.540741\n",
            "Train Epoch: 5 [42000/60000] Loss: 1.572842\n",
            "Train Epoch: 5 [44000/60000] Loss: 1.567929\n",
            "Train Epoch: 5 [46000/60000] Loss: 1.544934\n",
            "Train Epoch: 5 [48000/60000] Loss: 1.551376\n",
            "Train Epoch: 5 [50000/60000] Loss: 1.578912\n",
            "Train Epoch: 5 [52000/60000] Loss: 1.548707\n",
            "Train Epoch: 5 [54000/60000] Loss: 1.545545\n",
            "Train Epoch: 5 [56000/60000] Loss: 1.536987\n",
            "Train Epoch: 5 [58000/60000] Loss: 1.513749\n",
            "\n",
            "Test set: Average loss: 0.0150, Correct: 9650, Total: 10000, Accuracy: 96.500%\n",
            "\n",
            "Train Epoch: 6 [0/60000] Loss: 1.548097\n",
            "Train Epoch: 6 [2000/60000] Loss: 1.502343\n",
            "Train Epoch: 6 [4000/60000] Loss: 1.521869\n",
            "Train Epoch: 6 [6000/60000] Loss: 1.519658\n",
            "Train Epoch: 6 [8000/60000] Loss: 1.522266\n",
            "Train Epoch: 6 [10000/60000] Loss: 1.590048\n",
            "Train Epoch: 6 [12000/60000] Loss: 1.542029\n",
            "Train Epoch: 6 [14000/60000] Loss: 1.536302\n",
            "Train Epoch: 6 [16000/60000] Loss: 1.539847\n",
            "Train Epoch: 6 [18000/60000] Loss: 1.515030\n",
            "Train Epoch: 6 [20000/60000] Loss: 1.558632\n",
            "Train Epoch: 6 [22000/60000] Loss: 1.547485\n",
            "Train Epoch: 6 [24000/60000] Loss: 1.540803\n",
            "Train Epoch: 6 [26000/60000] Loss: 1.558790\n",
            "Train Epoch: 6 [28000/60000] Loss: 1.541614\n",
            "Train Epoch: 6 [30000/60000] Loss: 1.585349\n",
            "Train Epoch: 6 [32000/60000] Loss: 1.552547\n",
            "Train Epoch: 6 [34000/60000] Loss: 1.540569\n",
            "Train Epoch: 6 [36000/60000] Loss: 1.524150\n",
            "Train Epoch: 6 [38000/60000] Loss: 1.547431\n",
            "Train Epoch: 6 [40000/60000] Loss: 1.535598\n",
            "Train Epoch: 6 [42000/60000] Loss: 1.544523\n",
            "Train Epoch: 6 [44000/60000] Loss: 1.570456\n",
            "Train Epoch: 6 [46000/60000] Loss: 1.563801\n",
            "Train Epoch: 6 [48000/60000] Loss: 1.566300\n",
            "Train Epoch: 6 [50000/60000] Loss: 1.561713\n",
            "Train Epoch: 6 [52000/60000] Loss: 1.569356\n",
            "Train Epoch: 6 [54000/60000] Loss: 1.526606\n",
            "Train Epoch: 6 [56000/60000] Loss: 1.550798\n",
            "Train Epoch: 6 [58000/60000] Loss: 1.531942\n",
            "\n",
            "Test set: Average loss: 0.0150, Correct: 9644, Total: 10000, Accuracy: 96.440%\n",
            "\n",
            "Train Epoch: 7 [0/60000] Loss: 1.586662\n",
            "Train Epoch: 7 [2000/60000] Loss: 1.542928\n",
            "Train Epoch: 7 [4000/60000] Loss: 1.544280\n",
            "Train Epoch: 7 [6000/60000] Loss: 1.535202\n",
            "Train Epoch: 7 [8000/60000] Loss: 1.521040\n",
            "Train Epoch: 7 [10000/60000] Loss: 1.539269\n",
            "Train Epoch: 7 [12000/60000] Loss: 1.561478\n",
            "Train Epoch: 7 [14000/60000] Loss: 1.567034\n",
            "Train Epoch: 7 [16000/60000] Loss: 1.509418\n",
            "Train Epoch: 7 [18000/60000] Loss: 1.523689\n",
            "Train Epoch: 7 [20000/60000] Loss: 1.552866\n",
            "Train Epoch: 7 [22000/60000] Loss: 1.530125\n",
            "Train Epoch: 7 [24000/60000] Loss: 1.515244\n",
            "Train Epoch: 7 [26000/60000] Loss: 1.540730\n",
            "Train Epoch: 7 [28000/60000] Loss: 1.530872\n",
            "Train Epoch: 7 [30000/60000] Loss: 1.569700\n",
            "Train Epoch: 7 [32000/60000] Loss: 1.539354\n",
            "Train Epoch: 7 [34000/60000] Loss: 1.509059\n",
            "Train Epoch: 7 [36000/60000] Loss: 1.533830\n",
            "Train Epoch: 7 [38000/60000] Loss: 1.533218\n",
            "Train Epoch: 7 [40000/60000] Loss: 1.540489\n",
            "Train Epoch: 7 [42000/60000] Loss: 1.561092\n",
            "Train Epoch: 7 [44000/60000] Loss: 1.494556\n",
            "Train Epoch: 7 [46000/60000] Loss: 1.508799\n",
            "Train Epoch: 7 [48000/60000] Loss: 1.532812\n",
            "Train Epoch: 7 [50000/60000] Loss: 1.533368\n",
            "Train Epoch: 7 [52000/60000] Loss: 1.540866\n",
            "Train Epoch: 7 [54000/60000] Loss: 1.514319\n",
            "Train Epoch: 7 [56000/60000] Loss: 1.524151\n",
            "Train Epoch: 7 [58000/60000] Loss: 1.588716\n",
            "\n",
            "Test set: Average loss: 0.0149, Correct: 9683, Total: 10000, Accuracy: 96.830%\n",
            "\n",
            "Train Epoch: 8 [0/60000] Loss: 1.515633\n",
            "Train Epoch: 8 [2000/60000] Loss: 1.523975\n",
            "Train Epoch: 8 [4000/60000] Loss: 1.505141\n",
            "Train Epoch: 8 [6000/60000] Loss: 1.514389\n",
            "Train Epoch: 8 [8000/60000] Loss: 1.561005\n",
            "Train Epoch: 8 [10000/60000] Loss: 1.516300\n",
            "Train Epoch: 8 [12000/60000] Loss: 1.556269\n",
            "Train Epoch: 8 [14000/60000] Loss: 1.585023\n",
            "Train Epoch: 8 [16000/60000] Loss: 1.509589\n",
            "Train Epoch: 8 [18000/60000] Loss: 1.519755\n",
            "Train Epoch: 8 [20000/60000] Loss: 1.571142\n",
            "Train Epoch: 8 [22000/60000] Loss: 1.522391\n",
            "Train Epoch: 8 [24000/60000] Loss: 1.548716\n",
            "Train Epoch: 8 [26000/60000] Loss: 1.541919\n",
            "Train Epoch: 8 [28000/60000] Loss: 1.538485\n",
            "Train Epoch: 8 [30000/60000] Loss: 1.586016\n",
            "Train Epoch: 8 [32000/60000] Loss: 1.524892\n",
            "Train Epoch: 8 [34000/60000] Loss: 1.551789\n",
            "Train Epoch: 8 [36000/60000] Loss: 1.515172\n",
            "Train Epoch: 8 [38000/60000] Loss: 1.562036\n",
            "Train Epoch: 8 [40000/60000] Loss: 1.551771\n",
            "Train Epoch: 8 [42000/60000] Loss: 1.507981\n",
            "Train Epoch: 8 [44000/60000] Loss: 1.552072\n",
            "Train Epoch: 8 [46000/60000] Loss: 1.518669\n",
            "Train Epoch: 8 [48000/60000] Loss: 1.551255\n",
            "Train Epoch: 8 [50000/60000] Loss: 1.545569\n",
            "Train Epoch: 8 [52000/60000] Loss: 1.520314\n",
            "Train Epoch: 8 [54000/60000] Loss: 1.561237\n",
            "Train Epoch: 8 [56000/60000] Loss: 1.546597\n",
            "Train Epoch: 8 [58000/60000] Loss: 1.508640\n",
            "\n",
            "Test set: Average loss: 0.0149, Correct: 9699, Total: 10000, Accuracy: 96.990%\n",
            "\n",
            "Train Epoch: 9 [0/60000] Loss: 1.530732\n",
            "Train Epoch: 9 [2000/60000] Loss: 1.567027\n",
            "Train Epoch: 9 [4000/60000] Loss: 1.566571\n",
            "Train Epoch: 9 [6000/60000] Loss: 1.501355\n",
            "Train Epoch: 9 [8000/60000] Loss: 1.505159\n",
            "Train Epoch: 9 [10000/60000] Loss: 1.555141\n",
            "Train Epoch: 9 [12000/60000] Loss: 1.493126\n",
            "Train Epoch: 9 [14000/60000] Loss: 1.521580\n",
            "Train Epoch: 9 [16000/60000] Loss: 1.561702\n",
            "Train Epoch: 9 [18000/60000] Loss: 1.537299\n",
            "Train Epoch: 9 [20000/60000] Loss: 1.521015\n",
            "Train Epoch: 9 [22000/60000] Loss: 1.522243\n",
            "Train Epoch: 9 [24000/60000] Loss: 1.502392\n",
            "Train Epoch: 9 [26000/60000] Loss: 1.515714\n",
            "Train Epoch: 9 [28000/60000] Loss: 1.554380\n",
            "Train Epoch: 9 [30000/60000] Loss: 1.528098\n",
            "Train Epoch: 9 [32000/60000] Loss: 1.530538\n",
            "Train Epoch: 9 [34000/60000] Loss: 1.543012\n",
            "Train Epoch: 9 [36000/60000] Loss: 1.500979\n",
            "Train Epoch: 9 [38000/60000] Loss: 1.483028\n",
            "Train Epoch: 9 [40000/60000] Loss: 1.552210\n",
            "Train Epoch: 9 [42000/60000] Loss: 1.526363\n",
            "Train Epoch: 9 [44000/60000] Loss: 1.568001\n",
            "Train Epoch: 9 [46000/60000] Loss: 1.530741\n",
            "Train Epoch: 9 [48000/60000] Loss: 1.540105\n",
            "Train Epoch: 9 [50000/60000] Loss: 1.515192\n",
            "Train Epoch: 9 [52000/60000] Loss: 1.531610\n",
            "Train Epoch: 9 [54000/60000] Loss: 1.518776\n",
            "Train Epoch: 9 [56000/60000] Loss: 1.520141\n",
            "Train Epoch: 9 [58000/60000] Loss: 1.536404\n",
            "\n",
            "Test set: Average loss: 0.0149, Correct: 9686, Total: 10000, Accuracy: 96.860%\n",
            "\n",
            "Train Epoch: 10 [0/60000] Loss: 1.529942\n",
            "Train Epoch: 10 [2000/60000] Loss: 1.519709\n",
            "Train Epoch: 10 [4000/60000] Loss: 1.569071\n",
            "Train Epoch: 10 [6000/60000] Loss: 1.554561\n",
            "Train Epoch: 10 [8000/60000] Loss: 1.518948\n",
            "Train Epoch: 10 [10000/60000] Loss: 1.599402\n",
            "Train Epoch: 10 [12000/60000] Loss: 1.552361\n",
            "Train Epoch: 10 [14000/60000] Loss: 1.540003\n",
            "Train Epoch: 10 [16000/60000] Loss: 1.554042\n",
            "Train Epoch: 10 [18000/60000] Loss: 1.560390\n",
            "Train Epoch: 10 [20000/60000] Loss: 1.551781\n",
            "Train Epoch: 10 [22000/60000] Loss: 1.558295\n",
            "Train Epoch: 10 [24000/60000] Loss: 1.519836\n",
            "Train Epoch: 10 [26000/60000] Loss: 1.516986\n",
            "Train Epoch: 10 [28000/60000] Loss: 1.497659\n",
            "Train Epoch: 10 [30000/60000] Loss: 1.549817\n",
            "Train Epoch: 10 [32000/60000] Loss: 1.565807\n",
            "Train Epoch: 10 [34000/60000] Loss: 1.542666\n",
            "Train Epoch: 10 [36000/60000] Loss: 1.496470\n",
            "Train Epoch: 10 [38000/60000] Loss: 1.502134\n",
            "Train Epoch: 10 [40000/60000] Loss: 1.504264\n",
            "Train Epoch: 10 [42000/60000] Loss: 1.508335\n",
            "Train Epoch: 10 [44000/60000] Loss: 1.528323\n",
            "Train Epoch: 10 [46000/60000] Loss: 1.522970\n",
            "Train Epoch: 10 [48000/60000] Loss: 1.534596\n",
            "Train Epoch: 10 [50000/60000] Loss: 1.519859\n",
            "Train Epoch: 10 [52000/60000] Loss: 1.524883\n",
            "Train Epoch: 10 [54000/60000] Loss: 1.490180\n",
            "Train Epoch: 10 [56000/60000] Loss: 1.484591\n",
            "Train Epoch: 10 [58000/60000] Loss: 1.540868\n",
            "\n",
            "Test set: Average loss: 0.0149, Correct: 9742, Total: 10000, Accuracy: 97.420%\n",
            "\n"
          ]
        }
      ]
    },
    {
      "cell_type": "code",
      "source": [
        "model.eval()\n",
        "data, target = test_set[0]\n",
        "data = data.unsqueeze(0).to(DEVICE)\n",
        "output = model(data)\n",
        "prediction = output.argmax(dim=1, keepdim=True).item()\n",
        "print(f'Prediction: {prediction}')\n",
        "image = data.squeeze(0).squeeze(0).cpu().numpy()\n",
        "plt.imshow(image, cmap='gray')\n",
        "plt.show()"
      ],
      "metadata": {
        "colab": {
          "base_uri": "https://localhost:8080/",
          "height": 504
        },
        "id": "gUw9JAoz3A3I",
        "outputId": "b465798e-1345-4087-a01b-3fe9c448b25e"
      },
      "execution_count": 49,
      "outputs": [
        {
          "output_type": "stream",
          "name": "stdout",
          "text": [
            "Prediction: 7\n"
          ]
        },
        {
          "output_type": "stream",
          "name": "stderr",
          "text": [
            "<ipython-input-43-fa40d085c570>:17: UserWarning: Implicit dimension choice for softmax has been deprecated. Change the call to include dim=X as an argument.\n",
            "  out = F.softmax(x)\n"
          ]
        },
        {
          "output_type": "display_data",
          "data": {
            "text/plain": [
              "<Figure size 640x480 with 1 Axes>"
            ],
            "image/png": "[encoded data removed]"
          },
          "metadata": {}
        }
      ]
    }
  ]
}